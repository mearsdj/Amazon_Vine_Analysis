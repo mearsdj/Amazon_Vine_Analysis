{
  "cells": [
    {
      "cell_type": "markdown",
      "metadata": {
        "id": "view-in-github",
        "colab_type": "text"
      },
      "source": [
        "<a href=\"https://colab.research.google.com/github/mearsdj/Amazon_Vine_Analysis/blob/main/Vine_Review_Analysis.ipynb\" target=\"_parent\"><img src=\"https://colab.research.google.com/assets/colab-badge.svg\" alt=\"Open In Colab\"/></a>"
      ]
    },
    {
      "cell_type": "code",
      "execution_count": 1,
      "metadata": {
        "colab": {
          "base_uri": "https://localhost:8080/"
        },
        "id": "V58rxea0HqSa",
        "outputId": "56eddea7-3a45-45a1-c7c8-c37372381485"
      },
      "outputs": [
        {
          "output_type": "stream",
          "name": "stdout",
          "text": [
            "\r0% [Working]\r            \rHit:1 http://archive.ubuntu.com/ubuntu bionic InRelease\n",
            "\r0% [Waiting for headers] [Connecting to security.ubuntu.com (185.125.190.36)] [\r0% [1 InRelease gpgv 242 kB] [Waiting for headers] [Connecting to security.ubun\r                                                                               \rGet:2 http://archive.ubuntu.com/ubuntu bionic-updates InRelease [88.7 kB]\n",
            "\r0% [1 InRelease gpgv 242 kB] [2 InRelease 14.2 kB/88.7 kB 16%] [Connecting to s\r                                                                               \rGet:3 https://cloud.r-project.org/bin/linux/ubuntu bionic-cran40/ InRelease [3,626 B]\n",
            "\r0% [1 InRelease gpgv 242 kB] [2 InRelease 27.2 kB/88.7 kB 31%] [Waiting for hea\r0% [1 InRelease gpgv 242 kB] [2 InRelease 27.2 kB/88.7 kB 31%] [Waiting for hea\r0% [1 InRelease gpgv 242 kB] [Waiting for headers] [Waiting for headers] [Waiti\r                                                                               \rGet:4 http://ppa.launchpad.net/c2d4u.team/c2d4u4.0+/ubuntu bionic InRelease [15.9 kB]\n",
            "\r0% [1 InRelease gpgv 242 kB] [Waiting for headers] [Waiting for headers] [Waiti\r                                                                               \rIgn:5 https://developer.download.nvidia.com/compute/machine-learning/repos/ubuntu1804/x86_64  InRelease\n",
            "\r0% [1 InRelease gpgv 242 kB] [Waiting for headers] [Waiting for headers] [4 InR\r                                                                               \rGet:6 http://security.ubuntu.com/ubuntu bionic-security InRelease [88.7 kB]\n",
            "Get:7 http://archive.ubuntu.com/ubuntu bionic-backports InRelease [74.6 kB]\n",
            "Get:8 https://developer.download.nvidia.com/compute/cuda/repos/ubuntu1804/x86_64  InRelease [1,581 B]\n",
            "Hit:9 https://developer.download.nvidia.com/compute/machine-learning/repos/ubuntu1804/x86_64  Release\n",
            "Hit:10 http://ppa.launchpad.net/cran/libgit2/ubuntu bionic InRelease\n",
            "Hit:11 http://ppa.launchpad.net/deadsnakes/ppa/ubuntu bionic InRelease\n",
            "Hit:12 http://ppa.launchpad.net/graphics-drivers/ppa/ubuntu bionic InRelease\n",
            "Get:13 https://cloud.r-project.org/bin/linux/ubuntu bionic-cran40/ Packages [91.1 kB]\n",
            "Get:14 http://archive.ubuntu.com/ubuntu bionic-updates/main amd64 Packages [3,369 kB]\n",
            "Get:15 http://archive.ubuntu.com/ubuntu bionic-updates/universe amd64 Packages [2,311 kB]\n",
            "Get:16 https://developer.download.nvidia.com/compute/cuda/repos/ubuntu1804/x86_64  Packages [912 kB]\n",
            "Get:18 http://ppa.launchpad.net/c2d4u.team/c2d4u4.0+/ubuntu bionic/main Sources [2,093 kB]\n",
            "Get:19 http://ppa.launchpad.net/c2d4u.team/c2d4u4.0+/ubuntu bionic/main amd64 Packages [1,073 kB]\n",
            "Get:20 http://security.ubuntu.com/ubuntu bionic-security/universe amd64 Packages [1,534 kB]\n",
            "Get:21 http://security.ubuntu.com/ubuntu bionic-security/main amd64 Packages [2,938 kB]\n",
            "Fetched 14.6 MB in 6s (2,300 kB/s)\n",
            "Reading package lists... Done\n"
          ]
        }
      ],
      "source": [
        "import os\n",
        "# Find the latest version of spark 3.0 from http://www.apache.org/dist/spark/ and enter as the spark version\n",
        "# For example:\n",
        "# spark_version = 'spark-3.0.3'\n",
        "spark_version = 'spark-3.1.3'\n",
        "os.environ['SPARK_VERSION']=spark_version\n",
        "\n",
        "# Install Spark and Java\n",
        "!apt-get update\n",
        "!apt-get install openjdk-11-jdk-headless -qq > /dev/null\n",
        "!wget -q http://www.apache.org/dist/spark/$SPARK_VERSION/$SPARK_VERSION-bin-hadoop2.7.tgz\n",
        "!tar xf $SPARK_VERSION-bin-hadoop2.7.tgz\n",
        "!pip install -q findspark\n",
        "\n",
        "# Set Environment Variables\n",
        "import os\n",
        "os.environ[\"JAVA_HOME\"] = \"/usr/lib/jvm/java-11-openjdk-amd64\"\n",
        "os.environ[\"SPARK_HOME\"] = f\"/content/{spark_version}-bin-hadoop2.7\"\n",
        "\n",
        "# Start a SparkSession\n",
        "import findspark\n",
        "findspark.init()"
      ]
    },
    {
      "cell_type": "code",
      "execution_count": 2,
      "metadata": {
        "colab": {
          "base_uri": "https://localhost:8080/"
        },
        "id": "_xKwTpATHqSe",
        "outputId": "4488a326-6b02-4cee-e4ba-6f05e780982a"
      },
      "outputs": [
        {
          "output_type": "stream",
          "name": "stdout",
          "text": [
            "--2022-08-28 21:22:53--  https://jdbc.postgresql.org/download/postgresql-42.2.16.jar\n",
            "Resolving jdbc.postgresql.org (jdbc.postgresql.org)... 72.32.157.228, 2001:4800:3e1:1::228\n",
            "Connecting to jdbc.postgresql.org (jdbc.postgresql.org)|72.32.157.228|:443... connected.\n",
            "HTTP request sent, awaiting response... 200 OK\n",
            "Length: 1002883 (979K) [application/java-archive]\n",
            "Saving to: ‘postgresql-42.2.16.jar’\n",
            "\n",
            "postgresql-42.2.16. 100%[===================>] 979.38K  6.15MB/s    in 0.2s    \n",
            "\n",
            "2022-08-28 21:22:54 (6.15 MB/s) - ‘postgresql-42.2.16.jar’ saved [1002883/1002883]\n",
            "\n"
          ]
        }
      ],
      "source": [
        "# Download the Postgres driver that will allow Spark to interact with Postgres.\n",
        "!wget https://jdbc.postgresql.org/download/postgresql-42.2.16.jar"
      ]
    },
    {
      "cell_type": "code",
      "execution_count": 3,
      "metadata": {
        "id": "MMqDAjVS0KN9"
      },
      "outputs": [],
      "source": [
        "from pyspark.sql import SparkSession\n",
        "spark = SparkSession.builder.appName(\"M16-Amazon-Challenge\").config(\"spark.driver.extraClassPath\",\"/content/postgresql-42.2.16.jar\").getOrCreate()"
      ]
    },
    {
      "cell_type": "markdown",
      "metadata": {
        "id": "cyBsySGuY-9V"
      },
      "source": [
        "### Load Amazon Data into Spark DataFrame"
      ]
    },
    {
      "cell_type": "code",
      "execution_count": 4,
      "metadata": {
        "id": "CtCmBhQJY-9Z"
      },
      "outputs": [],
      "source": [
        "from pyspark import SparkFiles\n",
        "url = \"https://s3.amazonaws.com/amazon-reviews-pds/tsv/amazon_reviews_us_Gift_Card_v1_00.tsv.gz\"\n",
        "spark.sparkContext.addFile(url)"
      ]
    },
    {
      "cell_type": "markdown",
      "metadata": {
        "id": "2yUSe55VY-9t"
      },
      "source": [
        "### Create DataFrames to match tables"
      ]
    },
    {
      "cell_type": "code",
      "execution_count": 5,
      "metadata": {
        "colab": {
          "base_uri": "https://localhost:8080/"
        },
        "id": "C8REmY1aY-9u",
        "outputId": "56b5ee98-c486-4153-9b8f-e1f22c2fa974"
      },
      "outputs": [
        {
          "output_type": "stream",
          "name": "stdout",
          "text": [
            "+-----------+-----------+--------------+----------+--------------+--------------------+----------------+-----------+-------------+-----------+----+-----------------+--------------------+--------------------+-----------+\n",
            "|marketplace|customer_id|     review_id|product_id|product_parent|       product_title|product_category|star_rating|helpful_votes|total_votes|vine|verified_purchase|     review_headline|         review_body|review_date|\n",
            "+-----------+-----------+--------------+----------+--------------+--------------------+----------------+-----------+-------------+-----------+----+-----------------+--------------------+--------------------+-----------+\n",
            "|         US|   24371595|R27ZP1F1CD0C3Y|B004LLIL5A|     346014806|Amazon eGift Card...|       Gift Card|          5|            0|          0|   N|                Y|          Five Stars|Great birthday gi...| 2015-08-31|\n",
            "|         US|   42489718| RJ7RSBCHUDNNE|B004LLIKVU|     473048287|Amazon.com eGift ...|       Gift Card|          5|            0|          0|   N|                Y|Gift card for the...|It's an Amazon gi...| 2015-08-31|\n",
            "|         US|     861463|R1HVYBSKLQJI5S|B00IX1I3G6|     926539283|Amazon.com Gift C...|       Gift Card|          5|            0|          0|   N|                Y|          Five Stars|                Good| 2015-08-31|\n",
            "|         US|   25283295|R2HAXF0IIYQBIR|B00IX1I3G6|     926539283|Amazon.com Gift C...|       Gift Card|          1|            0|          0|   N|                Y|            One Star|                Fair| 2015-08-31|\n",
            "|         US|     397970| RNYLPX611NB7Q|B005ESMGV4|     379368939|Amazon.com Gift C...|       Gift Card|          5|            0|          0|   N|                Y|          Five Stars|I can't believe h...| 2015-08-31|\n",
            "|         US|   18513645|R3ALA9XXMBEDZR|B004KNWWU4|     326384774|Amazon Gift Card ...|       Gift Card|          5|            0|          0|   N|                Y|Perfect for most ...|Perfect!  Nice & ...| 2015-08-31|\n",
            "|         US|   22484620|R3R8PHAVJFTPDF|B004LLIKVU|     473048287|Amazon.com eGift ...|       Gift Card|          5|            0|          0|   N|                Y|          Five Stars|            excelent| 2015-08-31|\n",
            "|         US|   14765851|R18WWEK8OIXE30|BT00CTP2EE|     775486538|Amazon.com Gift C...|       Gift Card|          5|            0|          0|   N|                Y|          Five Stars|Great and Safe Gi...| 2015-08-31|\n",
            "|         US|   18751931|R1EGUNQON2J277|B004LLIKVU|     473048287|Amazon.com eGift ...|       Gift Card|          1|            0|          0|   N|                Y|            One Star|       What?????????| 2015-08-31|\n",
            "|         US|   15100528|R21Z4M4L98CPU2|B004W8D102|     595099956|Amazon Gift Card ...|       Gift Card|          5|            0|          0|   N|                Y|          Five Stars|This was just too...| 2015-08-31|\n",
            "|         US|    3559726| R6JH7A117FHFA|B004LLIKVU|     473048287|Amazon.com eGift ...|       Gift Card|          5|            0|          0|   N|                Y|          Five Stars|                Bien| 2015-08-31|\n",
            "|         US|   23413911|R1XZHS8M1GCGI7|B004KNWWU4|     326384774|Amazon Gift Card ...|       Gift Card|          5|            1|          1|   N|                Y|         Always good|Easy to print fro...| 2015-08-31|\n",
            "|         US|    2026222|R1DAI0N03SKRJN|B004LLIKVU|     473048287|Amazon.com eGift ...|       Gift Card|          5|            1|          1|   N|                Y|          Five Stars|Amazing with 10 d...| 2015-08-31|\n",
            "|         US|   32956435|R2F6SKZOEYQRU3|B004LLIKVU|     473048287|Amazon.com eGift ...|       Gift Card|          5|            0|          0|   N|                N|          Five Stars|Remember Matthew ...| 2015-08-31|\n",
            "|         US|   20241560| RIBOP6OEAZA47|B00H5BNLUS|     637715957|Amazon eGift Card...|       Gift Card|          5|            1|          1|   N|                Y|          Five Stars|                good| 2015-08-31|\n",
            "|         US|   10670435|R15H8E7WD6XD29|B004KNWX6C|     763371347|Amazon Gift Card ...|       Gift Card|          5|            0|          0|   N|                Y|          Five Stars|Awesome way to se...| 2015-08-31|\n",
            "|         US|   48872127| RVN4P3RU4F8IE|BT00CTOYC0|     506740729|Amazon.com $15 Gi...|       Gift Card|          5|            0|          0|   N|                Y|Quick Solution fo...|I love that I hav...| 2015-08-31|\n",
            "|         US|     460630| RCS8F9JCAAXC7|B004LLIKVU|     473048287|Amazon.com eGift ...|       Gift Card|          4|            0|          0|   N|                Y|          Four Stars|Good gift. Easy t...| 2015-08-31|\n",
            "|         US|   41238378| R6811C4E7UYL2|B00H5BMH44|      81025991|Amazon eGift Card...|       Gift Card|          5|            0|          0|   N|                Y|  Satisfied customer|Satisfied as usua...| 2015-08-31|\n",
            "|         US|   14222739|R196T0NZ73TYIM|B005ESMMKE|     459536087|Amazon.com Gift C...|       Gift Card|          5|            1|          1|   N|                Y|          Five Stars|                nice| 2015-08-31|\n",
            "+-----------+-----------+--------------+----------+--------------+--------------------+----------------+-----------+-------------+-----------+----+-----------------+--------------------+--------------------+-----------+\n",
            "only showing top 20 rows\n",
            "\n"
          ]
        }
      ],
      "source": [
        "from pyspark.sql.functions import to_date\n",
        "# Read in the Review dataset as a DataFrame\n",
        "df = spark.read.option(\"encoding\", \"UTF-8\").csv(SparkFiles.get(\"\"), sep=\"\\t\", header=True, inferSchema=True)\n",
        "df.show()"
      ]
    },
    {
      "cell_type": "code",
      "execution_count": 6,
      "metadata": {
        "colab": {
          "base_uri": "https://localhost:8080/"
        },
        "id": "lzMmkdKmY--D",
        "outputId": "dd9771f2-b31e-4a5f-db34-c2b2a510b009"
      },
      "outputs": [
        {
          "output_type": "stream",
          "name": "stdout",
          "text": [
            "+--------------+-----------+-------------+-----------+----+-----------------+\n",
            "|     review_id|star_rating|helpful_votes|total_votes|vine|verified_purchase|\n",
            "+--------------+-----------+-------------+-----------+----+-----------------+\n",
            "|R27ZP1F1CD0C3Y|          5|            0|          0|   N|                Y|\n",
            "| RJ7RSBCHUDNNE|          5|            0|          0|   N|                Y|\n",
            "|R1HVYBSKLQJI5S|          5|            0|          0|   N|                Y|\n",
            "|R2HAXF0IIYQBIR|          1|            0|          0|   N|                Y|\n",
            "| RNYLPX611NB7Q|          5|            0|          0|   N|                Y|\n",
            "|R3ALA9XXMBEDZR|          5|            0|          0|   N|                Y|\n",
            "|R3R8PHAVJFTPDF|          5|            0|          0|   N|                Y|\n",
            "|R18WWEK8OIXE30|          5|            0|          0|   N|                Y|\n",
            "|R1EGUNQON2J277|          1|            0|          0|   N|                Y|\n",
            "|R21Z4M4L98CPU2|          5|            0|          0|   N|                Y|\n",
            "| R6JH7A117FHFA|          5|            0|          0|   N|                Y|\n",
            "|R1XZHS8M1GCGI7|          5|            1|          1|   N|                Y|\n",
            "|R1DAI0N03SKRJN|          5|            1|          1|   N|                Y|\n",
            "|R2F6SKZOEYQRU3|          5|            0|          0|   N|                N|\n",
            "| RIBOP6OEAZA47|          5|            1|          1|   N|                Y|\n",
            "|R15H8E7WD6XD29|          5|            0|          0|   N|                Y|\n",
            "| RVN4P3RU4F8IE|          5|            0|          0|   N|                Y|\n",
            "| RCS8F9JCAAXC7|          4|            0|          0|   N|                Y|\n",
            "| R6811C4E7UYL2|          5|            0|          0|   N|                Y|\n",
            "|R196T0NZ73TYIM|          5|            1|          1|   N|                Y|\n",
            "+--------------+-----------+-------------+-----------+----+-----------------+\n",
            "only showing top 20 rows\n",
            "\n"
          ]
        }
      ],
      "source": [
        "# Create the vine_table. DataFrame\n",
        "vine_df = df.select(['review_id','star_rating','helpful_votes','total_votes','vine','verified_purchase'])\n",
        "vine_df.show(20)"
      ]
    },
    {
      "cell_type": "code",
      "execution_count": 7,
      "metadata": {
        "id": "Exuo6ebUsCqW",
        "colab": {
          "base_uri": "https://localhost:8080/"
        },
        "outputId": "c399f244-4a83-46ea-f4fc-d19bf3a1e9be"
      },
      "outputs": [
        {
          "output_type": "stream",
          "name": "stdout",
          "text": [
            "+--------------+-----------+-------------+-----------+----+-----------------+\n",
            "|     review_id|star_rating|helpful_votes|total_votes|vine|verified_purchase|\n",
            "+--------------+-----------+-------------+-----------+----+-----------------+\n",
            "|R36PQ9D8L2AAOH|          5|           30|         32|   N|                Y|\n",
            "|R23GHBE86II0SK|          5|           18|         21|   N|                Y|\n",
            "|R18KVPY0TO33BM|          5|          241|        248|   N|                Y|\n",
            "|R2ZB78BDM8BRCF|          1|           99|        113|   N|                Y|\n",
            "|R10ORTN0I3G5B9|          1|           19|         26|   N|                Y|\n",
            "|R1D1VPJBTP1WG8|          1|           38|         51|   N|                Y|\n",
            "|R3Q3ULUTULAQYH|          1|           22|         29|   N|                Y|\n",
            "|R1SHEELXA1IXQP|          5|           45|         57|   N|                Y|\n",
            "|R1IQJ99JOPJOE4|          5|           73|         94|   N|                N|\n",
            "|R32PHGNOUNJVY2|          1|          111|        150|   N|                Y|\n",
            "|R32HQ18L7FOP3N|          1|           18|         23|   N|                N|\n",
            "|R2IPGL0F4OCNO9|          1|           18|         24|   N|                N|\n",
            "| R4RNS35ZXYWSU|          2|           52|         59|   N|                Y|\n",
            "| R5S7HIQAWL5QS|          5|           48|         49|   N|                Y|\n",
            "|R12LGU9RL181NG|          1|         5987|       6323|   N|                Y|\n",
            "|R1ZMHE6AO0T6MO|          5|           67|         75|   N|                N|\n",
            "| R66RKRKYK3VMO|          5|           74|         89|   N|                Y|\n",
            "| R1SVG06BEMESM|          5|           92|        126|   N|                Y|\n",
            "|R1Q5MWSSP3RMYJ|          1|           25|         29|   N|                Y|\n",
            "|R1ZMG5YYY9Z2DL|          5|          124|        159|   N|                Y|\n",
            "+--------------+-----------+-------------+-----------+----+-----------------+\n",
            "only showing top 20 rows\n",
            "\n"
          ]
        }
      ],
      "source": [
        "\n",
        "vine_df_over20votes = vine_df.filter(vine_df.total_votes>20)\n",
        "vine_df_over20votes.show(20)"
      ]
    },
    {
      "cell_type": "code",
      "source": [
        "#filter for helpful votes >50% of total\n",
        "vine_df_over20votes_helpful = vine_df_over20votes.filter((vine_df_over20votes.helpful_votes/vine_df_over20votes.total_votes) > 0.5)\n",
        "vine_df_over20votes_helpful.show(20)"
      ],
      "metadata": {
        "colab": {
          "base_uri": "https://localhost:8080/"
        },
        "id": "ZEq38AEGkM-z",
        "outputId": "845d75f3-5034-481a-91db-cc55de621437"
      },
      "execution_count": 8,
      "outputs": [
        {
          "output_type": "stream",
          "name": "stdout",
          "text": [
            "+--------------+-----------+-------------+-----------+----+-----------------+\n",
            "|     review_id|star_rating|helpful_votes|total_votes|vine|verified_purchase|\n",
            "+--------------+-----------+-------------+-----------+----+-----------------+\n",
            "|R36PQ9D8L2AAOH|          5|           30|         32|   N|                Y|\n",
            "|R23GHBE86II0SK|          5|           18|         21|   N|                Y|\n",
            "|R18KVPY0TO33BM|          5|          241|        248|   N|                Y|\n",
            "|R2ZB78BDM8BRCF|          1|           99|        113|   N|                Y|\n",
            "|R10ORTN0I3G5B9|          1|           19|         26|   N|                Y|\n",
            "|R1D1VPJBTP1WG8|          1|           38|         51|   N|                Y|\n",
            "|R3Q3ULUTULAQYH|          1|           22|         29|   N|                Y|\n",
            "|R1SHEELXA1IXQP|          5|           45|         57|   N|                Y|\n",
            "|R1IQJ99JOPJOE4|          5|           73|         94|   N|                N|\n",
            "|R32PHGNOUNJVY2|          1|          111|        150|   N|                Y|\n",
            "|R32HQ18L7FOP3N|          1|           18|         23|   N|                N|\n",
            "|R2IPGL0F4OCNO9|          1|           18|         24|   N|                N|\n",
            "| R4RNS35ZXYWSU|          2|           52|         59|   N|                Y|\n",
            "| R5S7HIQAWL5QS|          5|           48|         49|   N|                Y|\n",
            "|R12LGU9RL181NG|          1|         5987|       6323|   N|                Y|\n",
            "|R1ZMHE6AO0T6MO|          5|           67|         75|   N|                N|\n",
            "| R66RKRKYK3VMO|          5|           74|         89|   N|                Y|\n",
            "| R1SVG06BEMESM|          5|           92|        126|   N|                Y|\n",
            "|R1Q5MWSSP3RMYJ|          1|           25|         29|   N|                Y|\n",
            "|R1ZMG5YYY9Z2DL|          5|          124|        159|   N|                Y|\n",
            "+--------------+-----------+-------------+-----------+----+-----------------+\n",
            "only showing top 20 rows\n",
            "\n"
          ]
        }
      ]
    },
    {
      "cell_type": "code",
      "source": [
        "filtered_df_in_vine = vine_df_over20votes_helpful.filter(vine_df_over20votes_helpful.vine=='Y')\n",
        "filtered_df_not_in_vine = vine_df_over20votes_helpful.filter(vine_df_over20votes_helpful.vine=='N')"
      ],
      "metadata": {
        "id": "P2FEditFlpd3"
      },
      "execution_count": 9,
      "outputs": []
    },
    {
      "cell_type": "code",
      "source": [
        "total_reviews_in_vine = filtered_df_in_vine.agg({'review_id':'count'}).withColumnRenamed('count(review_id)','Total Reviews in Vine')\n",
        "fivestar_reviews_in_vine = filtered_df_in_vine.filter(filtered_df_in_vine.star_rating==5).agg({'review_id':'count'}).withColumnRenamed('count(review_id)','Total Five Star Reviews in Vine')\n",
        "total_reviews_in_vine.show()\n",
        "fivestar_reviews_in_vine.show()\n",
        "review_df = total_reviews_in_vine.join(fivestar_reviews_in_vine)\n",
        "review_df.withColumn('% of Five Star Ratings - In Vine',review_df['Total Five Star Reviews in Vine']/review_df['Total Reviews in Vine']).show()\n",
        "#No vine reviews for gift cards!! :)\n",
        "total_reviews_not_in_vine = filtered_df_not_in_vine.agg({'review_id':'count'}).withColumnRenamed('count(review_id)','Total Reviews not in Vine')\n",
        "fivestar_reviews_not_in_vine = filtered_df_not_in_vine.filter(filtered_df_not_in_vine.star_rating==5).agg({'review_id':'count'}).withColumnRenamed('count(review_id)','Total Five Star Reviews not in Vine')\n",
        "total_reviews_not_in_vine.show()\n",
        "fivestar_reviews_not_in_vine.show()\n",
        "review_df2 = total_reviews_not_in_vine.join(fivestar_reviews_not_in_vine)\n",
        "review_df2.withColumn('% of Five Star Ratings - not In Vine',review_df2['Total Five Star Reviews not in Vine']/review_df2['Total Reviews not in Vine']).show()"
      ],
      "metadata": {
        "colab": {
          "base_uri": "https://localhost:8080/"
        },
        "id": "ZqwLQEI1mgAK",
        "outputId": "2e8cce88-d8b9-45cc-932f-632ab0c16766"
      },
      "execution_count": 29,
      "outputs": [
        {
          "output_type": "stream",
          "name": "stdout",
          "text": [
            "+---------------------+\n",
            "|Total Reviews in Vine|\n",
            "+---------------------+\n",
            "|                    0|\n",
            "+---------------------+\n",
            "\n",
            "+-------------------------------+\n",
            "|Total Five Star Reviews in Vine|\n",
            "+-------------------------------+\n",
            "|                              0|\n",
            "+-------------------------------+\n",
            "\n",
            "+---------------------+-------------------------------+--------------------------------+\n",
            "|Total Reviews in Vine|Total Five Star Reviews in Vine|% of Five Star Ratings - In Vine|\n",
            "+---------------------+-------------------------------+--------------------------------+\n",
            "|                    0|                              0|                            null|\n",
            "+---------------------+-------------------------------+--------------------------------+\n",
            "\n",
            "+-------------------------+\n",
            "|Total Reviews not in Vine|\n",
            "+-------------------------+\n",
            "|                      340|\n",
            "+-------------------------+\n",
            "\n",
            "+-----------------------------------+\n",
            "|Total Five Star Reviews not in Vine|\n",
            "+-----------------------------------+\n",
            "|                                 87|\n",
            "+-----------------------------------+\n",
            "\n",
            "+-------------------------+-----------------------------------+------------------------------------+\n",
            "|Total Reviews not in Vine|Total Five Star Reviews not in Vine|% of Five Star Ratings - not In Vine|\n",
            "+-------------------------+-----------------------------------+------------------------------------+\n",
            "|                      340|                                 87|                 0.25588235294117645|\n",
            "+-------------------------+-----------------------------------+------------------------------------+\n",
            "\n"
          ]
        }
      ]
    },
    {
      "cell_type": "code",
      "source": [
        "from pyspark import SparkFiles\n",
        "url = \"https://s3.amazonaws.com/amazon-reviews-pds/tsv/amazon_reviews_us_Outdoors_v1_00.tsv.gz\"\n",
        "spark.sparkContext.addFile(url)\n",
        "\n",
        "from pyspark.sql.functions import to_date\n",
        "# Read in the Review dataset as a DataFrame\n",
        "df = spark.read.option(\"encoding\", \"UTF-8\").csv(SparkFiles.get(\"\"), sep=\"\\t\", header=True, inferSchema=True)\n",
        "# df.show()\n",
        "\n",
        "# Create the vine_table. DataFrame\n",
        "vine_df_outdoor = df.select(['review_id','star_rating','helpful_votes','total_votes','vine','verified_purchase'])\n",
        "\n",
        "vine_df_outdoor_filtered = vine_df_outdoor.filter(vine_df_outdoor.total_votes>20)\n",
        "\n",
        "#filter for helpful votes >50% of total\n",
        "vine_df_outdoor_filtered = vine_df_outdoor_filtered.filter((vine_df_outdoor_filtered.helpful_votes/vine_df_outdoor_filtered.total_votes) > 0.5)\n",
        "\n",
        "#calc percent in vine\n",
        "filtered_df_in_vine = vine_df_outdoor_filtered.filter(vine_df_outdoor_filtered.vine=='Y')\n",
        "filtered_df_not_in_vine = vine_df_outdoor_filtered.filter(vine_df_outdoor_filtered.vine=='N')\n",
        "\n",
        "total_reviews_in_vine = filtered_df_in_vine.agg({'review_id':'count'})\n",
        "fivestar_reviews_in_vine = filtered_df_in_vine.filter(filtered_df_in_vine.star_rating==5).agg({'review_id':'count'})\n",
        "# pct_fivestar_reviews_in_vine = fivestar_reviews_in_vine/total_reviews_in_vine\n",
        "total_reviews_not_in_vine = filtered_df_not_in_vine.agg({'review_id':'count'})\n",
        "fivestar_reviews_not_in_vine = filtered_df_not_in_vine.filter(filtered_df_not_in_vine.star_rating==5).agg({'review_id':'count'})"
      ],
      "metadata": {
        "id": "Ji2r1xIfptf1"
      },
      "execution_count": 30,
      "outputs": []
    },
    {
      "cell_type": "code",
      "source": [
        "total_reviews_in_vine.show()\n",
        "fivestar_reviews_in_vine.show()\n",
        "\n",
        "total_reviews_not_in_vine.show()\n",
        "fivestar_reviews_not_in_vine.show()"
      ],
      "metadata": {
        "colab": {
          "base_uri": "https://localhost:8080/"
        },
        "id": "pY4NsgEssWXf",
        "outputId": "968f2c4e-df0c-4ad1-da8c-29ac55446092"
      },
      "execution_count": 31,
      "outputs": [
        {
          "output_type": "stream",
          "name": "stdout",
          "text": [
            "+----------------+\n",
            "|count(review_id)|\n",
            "+----------------+\n",
            "|             103|\n",
            "+----------------+\n",
            "\n",
            "+----------------+\n",
            "|count(review_id)|\n",
            "+----------------+\n",
            "|              55|\n",
            "+----------------+\n",
            "\n",
            "+----------------+\n",
            "|count(review_id)|\n",
            "+----------------+\n",
            "|           37712|\n",
            "+----------------+\n",
            "\n",
            "+----------------+\n",
            "|count(review_id)|\n",
            "+----------------+\n",
            "|           19810|\n",
            "+----------------+\n",
            "\n"
          ]
        }
      ]
    },
    {
      "cell_type": "code",
      "source": [
        "total_reviews_not_in_vine=total_reviews_not_in_vine.withColumnRenamed('count(review_id)','Total Non-vine Reviews')\n",
        "fivestar_reviews_not_in_vine=fivestar_reviews_not_in_vine.withColumnRenamed('count(review_id)','Total Non-vine Five Star Reviews')\n",
        "total_reviews_in_vine=total_reviews_in_vine.withColumnRenamed('count(review_id)','Total In-vine Reviews')\n",
        "fivestar_reviews_in_vine=fivestar_reviews_in_vine.withColumnRenamed('count(review_id)','Total In-vine Five Star Reviews')\n",
        "review_df3=total_reviews_not_in_vine.join(fivestar_reviews_not_in_vine)\n",
        "review_df3=review_df3.withColumn('% of 5 star reviews not in vine',review_df3['Total Non-vine Five Star Reviews']/review_df3['Total Non-vine Reviews'])\n",
        "review_df3=review_df3.join(total_reviews_in_vine)\n",
        "review_df3=review_df3.join(fivestar_reviews_in_vine)\n",
        "review_df3=review_df3.withColumn('% of 5 star reviews in vine',review_df3['Total In-vine Five Star Reviews']/review_df3['Total In-vine Reviews'])\n",
        "\n"
      ],
      "metadata": {
        "id": "pCVa48KrtpY5"
      },
      "execution_count": 34,
      "outputs": []
    },
    {
      "cell_type": "code",
      "source": [
        "review_df3.show()\n"
      ],
      "metadata": {
        "colab": {
          "base_uri": "https://localhost:8080/"
        },
        "id": "IssWqIE8egrx",
        "outputId": "c4e59aa8-be09-4ecf-bcb7-720345ae6e6a"
      },
      "execution_count": 35,
      "outputs": [
        {
          "output_type": "stream",
          "name": "stdout",
          "text": [
            "+----------------------+--------------------------------+-------------------------------+---------------------+-------------------------------+---------------------------+\n",
            "|Total Non-vine Reviews|Total Non-vine Five Star Reviews|% of 5 star reviews not in vine|Total In-vine Reviews|Total In-vine Five Star Reviews|% of 5 star reviews in vine|\n",
            "+----------------------+--------------------------------+-------------------------------+---------------------+-------------------------------+---------------------------+\n",
            "|                 37712|                           19810|              0.525296987696224|                  103|                             55|         0.5339805825242718|\n",
            "+----------------------+--------------------------------+-------------------------------+---------------------+-------------------------------+---------------------------+\n",
            "\n"
          ]
        }
      ]
    }
  ],
  "metadata": {
    "colab": {
      "collapsed_sections": [],
      "name": "Vine_Review_Analysis.ipynb",
      "provenance": [],
      "include_colab_link": true
    },
    "kernelspec": {
      "display_name": "Python 3",
      "name": "python3"
    },
    "language_info": {
      "name": "python"
    },
    "nteract": {
      "version": "0.12.3"
    }
  },
  "nbformat": 4,
  "nbformat_minor": 0
}